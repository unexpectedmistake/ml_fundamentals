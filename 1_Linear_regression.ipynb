{
 "cells": [
  {
   "cell_type": "markdown",
   "id": "de21b38e",
   "metadata": {},
   "source": [
    "# Linear regression and Regularization"
   ]
  },
  {
   "cell_type": "markdown",
   "id": "644774fb",
   "metadata": {},
   "source": [
    "*  [0) Prerequisites](#pr)\n",
    "*  [1) Linear Regression](#lin)\n",
    "*  [2) Regularization](#reg)"
   ]
  },
  {
   "cell_type": "markdown",
   "id": "a0227734",
   "metadata": {},
   "source": [
    "<a id=\"pr\"></a>\n",
    "## 0. Prerequisites"
   ]
  },
  {
   "cell_type": "markdown",
   "id": "4755e56d",
   "metadata": {},
   "source": [
    "### Dealing with missing values: <br/>\n",
    "[`sklearn.impute`](https://scikit-learn.org/stable/modules/classes.html#module-sklearn.impute)"
   ]
  },
  {
   "cell_type": "markdown",
   "id": "d2807e3c",
   "metadata": {},
   "source": [
    "### Работа с категориальными признаками\n",
    "\n",
    "\n",
    "Большинство алгоритмов не принимает категориальные фичи в чистом виде и нужно из как-то закодировать.\n",
    "\n",
    "Очень небольшое число алгоритмов МО умеет работать с категориальными признаками в чистом виде. Например, это делает библиотека для градиентного бустинга от Яндекса catboost. Внтури она применяет разные эвристики для кодирования признаков в числа.1"
   ]
  },
  {
   "cell_type": "markdown",
   "id": "2e73cd76",
   "metadata": {},
   "source": [
    "#### One-hot-encoding\n",
    "Самый простой способ закодировать категориальные фичи - one hot encoding. \n",
    "В pandas очень удобно использовать get_dummies для one-hot-encoding"
   ]
  },
  {
   "cell_type": "code",
   "execution_count": 1,
   "id": "f160a2b6",
   "metadata": {},
   "outputs": [],
   "source": [
    "from sklearn.datasets import load_breast_cancer \n",
    "import pandas as pd\n",
    "import seaborn as sns\n",
    "import numpy as np\n",
    "import matplotlib.pyplot as plt\n",
    "import warnings\n",
    "warnings.filterwarnings('ignore')"
   ]
  },
  {
   "cell_type": "code",
   "execution_count": 2,
   "id": "58fb5fd9",
   "metadata": {},
   "outputs": [],
   "source": [
    "cancer = load_breast_cancer()\n",
    "df = pd.DataFrame(data=np.hstack([cancer.data, cancer.target[:, np.newaxis]]), \n",
    "                 columns = np.append(cancer.feature_names,'target'))"
   ]
  },
  {
   "cell_type": "code",
   "execution_count": 3,
   "id": "fc6900e4",
   "metadata": {},
   "outputs": [],
   "source": [
    "df1 = pd.get_dummies(df, columns = ['target'])"
   ]
  },
  {
   "cell_type": "code",
   "execution_count": 4,
   "id": "7b38522d",
   "metadata": {},
   "outputs": [],
   "source": [
    "# one-hot coding for categorical variables, by default it's applied to all columns\n",
    "from sklearn.preprocessing import OneHotEncoder\n",
    "# for using OneHotEncoder only to specific columns\n",
    "from sklearn.compose import ColumnTransformer \n",
    "ohe = ColumnTransformer([('One Hot', OneHotEncoder(sparse = False), [1])], remainder = 'passthrough')"
   ]
  },
  {
   "cell_type": "markdown",
   "id": "e9727bd0",
   "metadata": {},
   "source": [
    "### Масштабирование признаков\n",
    "\n",
    "Необходимо привести все признаки к одному масштабу. Для этого в sklearn есть специальный Transformer -- StandardScaler и MinMaxScaler.\n",
    "\n",
    "StandardScaler во время .fit() для каждого признака $x_i$ считает среднее $\\mu_i$ и стандартное отклонение $\\sigma_i$ на обучающем датасете. Во время .transform() к каждому признаку применяется:\n",
    "\n",
    "$$\\mathbf{x_i}^{\\text{new}} = \\frac{\\mathbf{x_i} - \\mu_i}{\\sigma_i}$$\n",
    "\n",
    "\n",
    "MinMaxScaler во время .fit() для каждого признака $x_i$ считает минимум $x_{i, \\text{min}}$ и максимум $x_{i, \\text{max}}$ на обучающем датасете. Во время .transform() к каждому признаку применяется:\n",
    "\n",
    "$$\\mathbf{x_i}^{\\text{new}} = \\frac{\\mathbf{x_i} - x_{i, \\text{min}}}{x_{i, \\text{max}} - x_{i, \\text{min}}}$$"
   ]
  },
  {
   "cell_type": "code",
   "execution_count": 5,
   "id": "39ec22e2",
   "metadata": {},
   "outputs": [],
   "source": [
    "from sklearn.preprocessing import StandardScaler\n",
    "from sklearn.preprocessing import MinMaxScaler\n",
    "\n",
    "pca = StandardScaler()\n",
    "pca.fit(df)\n",
    "# Выход pca - numpy матрица, положим ее в новую переменную со всеми фичами\n",
    "X = pca.transform(df)\n",
    "\n",
    "# Или есть более простой способ \n",
    "X = pca.fit_transform(df)"
   ]
  },
  {
   "cell_type": "markdown",
   "id": "d49e7bf1",
   "metadata": {},
   "source": [
    "## Разделение на train/test\n",
    "\n",
    "Чтобы бороться с переобучением обучающую выборку обычно делят на две части train и test. На первой мы будем обучать модель, а на второй проверять, насколько хорошо модель работает. Размер тестовой выборки в 30-40% - неплохой выбор.\n",
    "\n",
    "Иногда данных слишком мало, чтобы жертвовать ими на тестовую часть. Тогда применяется метод, который называет cross validation. Мы посмотрим на то, как он работает в секции про оценку модели.\n",
    "\n",
    "**На самом деле, мы сделали не совсем правильно, потому что разделение на train/test нужно делать до добавления новых фичей/их кодирования итд. Иначе возможны лики из test части в train часть.** Например, при нормализации и PCA мы работаем со всем массивом данных, а значит информация из test попадет и в train. Но для упрощения кода и понимания того, что происходит мы не поделили выборку заранее. Если бы мы все-таки разделили выборку заранее, то нужно использовать fit на train части, а transform уже на обеих."
   ]
  },
  {
   "cell_type": "code",
   "execution_count": 6,
   "id": "4fcb1ef1",
   "metadata": {},
   "outputs": [],
   "source": [
    "from sklearn.model_selection import train_test_split\n",
    "\n",
    "X_train, X_test, y_train, y_test = train_test_split(X, df['target'], test_size=0.2)\n"
   ]
  },
  {
   "cell_type": "markdown",
   "id": "cb3ce5f0",
   "metadata": {},
   "source": [
    "## Обучение\n",
    "\n",
    "Самый хороший способ - попробовать максимум разных алгоритмов, посмотреть, какой из них лучше справляется и уже по метрикам выбрать лучший (возможно, объединить предсказания с помощью стэкинга или блендинга)."
   ]
  },
  {
   "cell_type": "code",
   "execution_count": 7,
   "id": "2287ccd4",
   "metadata": {},
   "outputs": [],
   "source": [
    "from sklearn.linear_model import LinearRegression\n",
    "from sklearn.metrics import mean_squared_error, make_scorer"
   ]
  },
  {
   "cell_type": "code",
   "execution_count": 8,
   "id": "67739058",
   "metadata": {},
   "outputs": [
    {
     "data": {
      "text/plain": [
       "2.2727324873554916e-31"
      ]
     },
     "execution_count": 8,
     "metadata": {},
     "output_type": "execute_result"
    }
   ],
   "source": [
    "lr = LinearRegression()\n",
    "lr.fit(X_train, y_train)\n",
    "y_pred = lr.predict(X_test)\n",
    "mean_squared_error(y_pred, y_test)"
   ]
  },
  {
   "cell_type": "markdown",
   "id": "31254195",
   "metadata": {},
   "source": [
    "## Cross Validation\n",
    "\n",
    "До этого мы разбирали случай, когда выборка заранее делится на train/test, но часто данных итак не хватает и отдавать их часть на test слишком расточительно. В такой ситуации на помощью приходит кросс валидация:\n",
    "1. Выберем $k$ - количество частей, на которые разобьется наш датасет\n",
    "2. for $ i = 1..k$ \n",
    "    * Обучим модель на всех частях датасета, кроме i-ой.\n",
    "    * Посчитаем метрики или предсказания для i-ой части\n",
    "3. Саггрегируем все все предсказания или усредним метрики\n",
    "\n",
    "Таким образом мы сможем получить более объективные предсказания нашей модели, использовав весь датасет как train и как test, при этом не создав утечек данных."
   ]
  },
  {
   "cell_type": "code",
   "execution_count": 9,
   "id": "9bba6ebe",
   "metadata": {},
   "outputs": [],
   "source": [
    "from sklearn.model_selection import cross_validate"
   ]
  },
  {
   "cell_type": "code",
   "execution_count": 10,
   "id": "137d8fe0",
   "metadata": {},
   "outputs": [
    {
     "data": {
      "text/plain": [
       "{'fit_time': array([0.00724578, 0.01247692, 0.00203705, 0.00199819, 0.00944376]),\n",
       " 'score_time': array([0.00081825, 0.00059605, 0.00052595, 0.0006249 , 0.00061703]),\n",
       " 'test_mean_squared_error': array([1.36017958e-31, 4.89037538e-31, 8.56221150e-31, 4.21677293e-31,\n",
       "        2.23176080e-31])}"
      ]
     },
     "execution_count": 10,
     "metadata": {},
     "output_type": "execute_result"
    }
   ],
   "source": [
    "cross_validate(LinearRegression(), X, df['target'], cv=5, \n",
    "               scoring={'mean_squared_error': make_scorer(mean_squared_error)})"
   ]
  },
  {
   "cell_type": "markdown",
   "id": "c55cdcbe",
   "metadata": {},
   "source": [
    "<a id=\"lin\"></a>\n",
    "## 1. Linear regression"
   ]
  },
  {
   "cell_type": "markdown",
   "id": "c5a9c4d1",
   "metadata": {},
   "source": [
    "Линейные методы предполагают, что между признаками объекта (features) и целевой переменной (target/label) существует линейная зависимость, то есть\n",
    "$$y = w_1 x_1 + w_2 x_2 + ... + w_k x_k + b, $$ где $у$ --- целевая переменная (что мы хотим предсказать), $x_i$ --- признак объекта $х$, $w_i$ --- вес $i$-го признака, $b$ --- bias (смещение, свободный член)\n",
    "\n",
    "Часто предполагают, что объект $х$ содержит в себе фиктивный признак равный 1 для представления свободного члена $b$. В этом случае формула принимает простой вид:\n",
    "$$y = \\langle w, x \\rangle,$$\n",
    "где $\\langle \\cdot, \\cdot \\rangle$ -- скалярное произведение векторов $w, x \\in \\mathbb{R}^n$.\n",
    "\n",
    "В матричной форме, в случае, когда у нас есть $m$ объектов формулу можно переписать следующим образом:\n",
    "$$ Y = Xw, $$ где $Y$ -- столбец размера $n$, $X$ --- матрица признаков размера $n \\times k$ (каждая строка матрицы есть описание признаков объекта), $w$ -- вектор весов размера $k$.\n",
    "\n",
    "**Лосс:** \n",
    "$$\n",
    "\\begin{aligned}\n",
    "L(y_{pred}, Y) &= \\frac{1}{n}||y_{pred} - Y||^2_2 =\\\\\n",
    "&= \\frac{1}{n}||Xw - Y||^2_2 = \\frac{1}{n}\\sum_{i=1}^{n}\\left(\\sum_{j=1}^{m} x_{ij}w_j - y_i\\right)^2 =: L(w)\n",
    "\\end{aligned}\n",
    "$$"
   ]
  },
  {
   "cell_type": "code",
   "execution_count": 11,
   "id": "8d9581a3",
   "metadata": {},
   "outputs": [],
   "source": [
    "from sklearn.datasets import load_boston\n",
    "boston = load_boston()\n",
    "X = pd.DataFrame(boston['data'], columns = boston['feature_names'])\n",
    "y = pd.DataFrame(boston['target'], columns = ['target'])\n",
    "data = pd.concat([X, y], axis = 1)"
   ]
  },
  {
   "cell_type": "code",
   "execution_count": 12,
   "id": "8ba6ff56",
   "metadata": {},
   "outputs": [],
   "source": [
    "X_train, X_test, y_train, y_test = train_test_split(X, y, random_state=0,\n",
    "                                                    stratify = X['CHAS'], test_size = 0.2)\n"
   ]
  },
  {
   "cell_type": "code",
   "execution_count": 13,
   "id": "56e51bd9",
   "metadata": {},
   "outputs": [],
   "source": [
    "sc = MinMaxScaler()\n",
    "sc.fit(X_train)\n",
    "\n",
    "X_train_sc = sc.transform(X_train)\n",
    "X_test_sc = sc.transform(X_test)"
   ]
  },
  {
   "cell_type": "markdown",
   "id": "90d70e29",
   "metadata": {},
   "source": [
    "### 1.1 Аналитическое решение\n",
    "\n",
    "Минимизация ошибки по методу наименьших квадратов дает решение: $$ w = (X^TX)^{-1}X^TY $$\n",
    "НО <br/>\n",
    "Обращение матрицы -- очень долгая операция. Кроме того, обратная матрица $(X^TX)^{-1}$ не всегда существует. По этим причинам, мы воспользуемся методом градиентного спуска для оптимизации эмпирического риска."
   ]
  },
  {
   "cell_type": "code",
   "execution_count": 14,
   "id": "4899be23",
   "metadata": {},
   "outputs": [],
   "source": [
    "class MyLinearRegression:\n",
    "    def __init__(self, fit_intercept=True):\n",
    "        self.fit_intercept = fit_intercept\n",
    "\n",
    "    def fit(self, X, y):\n",
    "        # Принимает на вход X, y и вычисляет веса по данной выборке\n",
    "        # Не забудьте про фиктивный признак равный 1\n",
    "        \n",
    "        n, k = X.shape\n",
    "        \n",
    "        X_train = X\n",
    "        if self.fit_intercept:\n",
    "            X_train = np.hstack((X, np.ones((n, 1))))\n",
    "\n",
    "        self.w = np.linalg.inv(X_train.T @ X_train) @ X_train.T @ y\n",
    "\n",
    "        return self\n",
    "        \n",
    "    def predict(self, X):\n",
    "        # Принимает на вход X и возвращает ответы модели\n",
    "        # Не забудьте про фиктивный признак равный 1\n",
    "        n, k = X.shape\n",
    "        if self.fit_intercept:\n",
    "            X_train = np.hstack((X, np.ones((n, 1))))\n",
    "\n",
    "        y_pred = X_train @ self.w\n",
    "\n",
    "        return y_pred\n",
    "    \n",
    "    def get_weights(self):\n",
    "        return self.w"
   ]
  },
  {
   "cell_type": "code",
   "execution_count": 15,
   "id": "b8b8c9d7",
   "metadata": {},
   "outputs": [],
   "source": [
    "regressor = MyLinearRegression()\n",
    "\n",
    "regressor.fit(X_train, y_train)\n",
    "predictions = regressor.predict(X_test)\n",
    "w = regressor.get_weights()"
   ]
  },
  {
   "cell_type": "code",
   "execution_count": 16,
   "id": "48dfa27a",
   "metadata": {},
   "outputs": [
    {
     "name": "stdout",
     "output_type": "stream",
     "text": [
      "Train MSE:  20.609223139329714\n",
      "Test MSE:  28.836203122197624\n"
     ]
    }
   ],
   "source": [
    "train_predictions = regressor.predict(X_train)\n",
    "test_predictions = regressor.predict(X_test)\n",
    "print('Train MSE: ', mean_squared_error(y_train, train_predictions))\n",
    "print('Test MSE: ', mean_squared_error(y_test, test_predictions))"
   ]
  },
  {
   "cell_type": "markdown",
   "id": "a097d9f5",
   "metadata": {},
   "source": [
    "### 1.2. Градиентная оптимизация\n",
    "\n",
    "Градиентый спуск заключается в \n",
    "1. расчете $\\displaystyle\\frac{\\partial{L}}{\\partial{w}}$ -- градиента ошибки (значение целевой функции, то есть лосса $L(y_{pred}, y_{true})$) от значения параметров модели (весов $w$)\n",
    "2. шаге спуска -- изменении весов $w$ в сторону антиградиента с некоторым коэффициентом $h$ (он же learning rate):\n",
    "$$w := w - h\\frac{\\partial{L}}{\\partial{w}}$$\n",
    "3. Повторении п.1 и п.2 пока не наблюдается сходимость (изменения ошибки малы или отсутсвуют)\n",
    "\n",
    "Как правило, чаще используют стохастический градиентный спуск (SGD): выбирают случайный элемент обучающей выборки и изменяют коэффициенты модели по направлению антиградиента функции потерь на этом примере.\n",
    "\n",
    "![Screenshot 2020-10-02 at 16.27.43.png](data:image/png;base64,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)"
   ]
  },
  {
   "cell_type": "code",
   "execution_count": 17,
   "id": "0612271c",
   "metadata": {},
   "outputs": [
    {
     "name": "stdout",
     "output_type": "stream",
     "text": [
      "MSE for OLS: 28.83620312219271\n"
     ]
    }
   ],
   "source": [
    "from sklearn.linear_model import LinearRegression\n",
    "\n",
    "model = LinearRegression()\n",
    "model.fit(X_train_sc, y_train)\n",
    "prediction = model.predict(X_test_sc)\n",
    "print('MSE for OLS:', mean_squared_error(y_test, prediction))"
   ]
  },
  {
   "cell_type": "code",
   "execution_count": 18,
   "id": "6d57a75e",
   "metadata": {},
   "outputs": [],
   "source": [
    "from sklearn.model_selection import cross_validate\n",
    "from sklearn.model_selection import KFold\n",
    "kfold = KFold(n_splits=5,    # number of chunks to split the data\n",
    "              shuffle=True, \n",
    "              random_state=0)"
   ]
  },
  {
   "cell_type": "code",
   "execution_count": 19,
   "id": "cefa5c37",
   "metadata": {},
   "outputs": [
    {
     "name": "stdout",
     "output_type": "stream",
     "text": [
      "Cross-validation train scores for OLS:\n",
      "[-21.71562281 -22.5866669  -20.72107618 -17.64548183 -18.98702343]\n"
     ]
    }
   ],
   "source": [
    "print(\"Cross-validation train scores for OLS:\\n{}\".format(cross_validate(model, \n",
    "                                                  X_train_sc, y_train, \n",
    "                                                  cv = kfold, \n",
    "                                                 scoring = 'neg_mean_squared_error',\n",
    "                                                 return_train_score = True)['train_score']))"
   ]
  },
  {
   "cell_type": "markdown",
   "id": "7a540f6d",
   "metadata": {},
   "source": [
    "<a id=\"reg\"></a>\n",
    "## 2. Regularization"
   ]
  },
  {
   "cell_type": "markdown",
   "id": "89b422a7",
   "metadata": {},
   "source": [
    "Зачастую модель обучается на каких-то зашумленных данных. Веса модели после обучения подбираются для уменьшения ошибки целевой функции. От различных выборках модель может обучаться по-разному, но нам бы хотелось вычленять основную зависимость примерно одинаково, то есть **не переобучаться (overfit)** на данных. Иначе обучившись на одном сете, мы можем получать неожиданный результат на других данных.\n",
    "\n",
    "То есть мы хотели бы штрафовать модель за ее сложность, чтобы выискивать более простые зависимости.\n"
   ]
  },
  {
   "cell_type": "markdown",
   "id": "bad93ef9",
   "metadata": {},
   "source": [
    "Еще одной проблемой, специфичной для линейных моделей, является **мультиколлинеарность**. Особенность мультиколлинеарности заключается в том, что из-за того, что решений становится бесконечно много, коэффициенты модели могут принимать огромные значения. Отсюда вывод: необходимо каким-то образом ограничить величину коэффициентов модели.\n",
    "\n",
    "Для линейной модели дополнительные ограничения на веса выполняют роль регуляризации. Различают:\n",
    "- $l_1$-регуляризацию (LASSO, least absolute shrinkage and selection operator), учитывание $||w||_1$ \n",
    "- $l_2$-регуляризацию (Ridge), учитывание $||w||^2_2$\n",
    "- Elastic net - комбинация двух предыдущих (учитываются обе нормы весов)"
   ]
  },
  {
   "cell_type": "markdown",
   "id": "6279574f",
   "metadata": {},
   "source": [
    "### Ridge and Lasso\n",
    "\n",
    "* Ridge]\n",
    "    * cannot get betas to exactly zero, but will limit how much they go away from zero, thus decreasing variance (but increasing bias)\n",
    "\n",
    "<img src=https://miro.medium.com/max/4800/1*hAGhQehrqAmT1pvz3q4t8Q.png width=\"500\">\n",
    "\n",
    "\n",
    "* Lasso\n",
    "    * can get some betas to be exactly zero, so you not only get regularisation, you also get feature selection\n",
    "\n",
    "<img src=https://miro.medium.com/max/4800/1*P5Lq5mAi4WAch7oIeiS3WA.png width=\"500\">"
   ]
  },
  {
   "cell_type": "code",
   "execution_count": 22,
   "id": "f1dabc47",
   "metadata": {},
   "outputs": [],
   "source": [
    "from sklearn.model_selection import GridSearchCV\n",
    "from sklearn.linear_model import SGDRegressor"
   ]
  },
  {
   "cell_type": "code",
   "execution_count": 23,
   "id": "ad0f276a",
   "metadata": {},
   "outputs": [],
   "source": [
    "model_2 = SGDRegressor(loss = 'squared_loss', penalty = 'l2')\n",
    "\n",
    "\n",
    "parameters = {'alpha': [1e-8, 1e-7, 1e-6, 1e-5, 1e-4, 1e-3, 1e-2] }\n",
    "\n",
    "sv = GridSearchCV(model_2, \n",
    "                  parameters, \n",
    "                  cv = kfold,\n",
    "                  scoring = 'neg_mean_squared_error', \n",
    "                  return_train_score = True)"
   ]
  },
  {
   "cell_type": "code",
   "execution_count": 24,
   "id": "02f60584",
   "metadata": {},
   "outputs": [
    {
     "data": {
      "text/html": [
       "<style>#sk-container-id-1 {color: black;background-color: white;}#sk-container-id-1 pre{padding: 0;}#sk-container-id-1 div.sk-toggleable {background-color: white;}#sk-container-id-1 label.sk-toggleable__label {cursor: pointer;display: block;width: 100%;margin-bottom: 0;padding: 0.3em;box-sizing: border-box;text-align: center;}#sk-container-id-1 label.sk-toggleable__label-arrow:before {content: \"▸\";float: left;margin-right: 0.25em;color: #696969;}#sk-container-id-1 label.sk-toggleable__label-arrow:hover:before {color: black;}#sk-container-id-1 div.sk-estimator:hover label.sk-toggleable__label-arrow:before {color: black;}#sk-container-id-1 div.sk-toggleable__content {max-height: 0;max-width: 0;overflow: hidden;text-align: left;background-color: #f0f8ff;}#sk-container-id-1 div.sk-toggleable__content pre {margin: 0.2em;color: black;border-radius: 0.25em;background-color: #f0f8ff;}#sk-container-id-1 input.sk-toggleable__control:checked~div.sk-toggleable__content {max-height: 200px;max-width: 100%;overflow: auto;}#sk-container-id-1 input.sk-toggleable__control:checked~label.sk-toggleable__label-arrow:before {content: \"▾\";}#sk-container-id-1 div.sk-estimator input.sk-toggleable__control:checked~label.sk-toggleable__label {background-color: #d4ebff;}#sk-container-id-1 div.sk-label input.sk-toggleable__control:checked~label.sk-toggleable__label {background-color: #d4ebff;}#sk-container-id-1 input.sk-hidden--visually {border: 0;clip: rect(1px 1px 1px 1px);clip: rect(1px, 1px, 1px, 1px);height: 1px;margin: -1px;overflow: hidden;padding: 0;position: absolute;width: 1px;}#sk-container-id-1 div.sk-estimator {font-family: monospace;background-color: #f0f8ff;border: 1px dotted black;border-radius: 0.25em;box-sizing: border-box;margin-bottom: 0.5em;}#sk-container-id-1 div.sk-estimator:hover {background-color: #d4ebff;}#sk-container-id-1 div.sk-parallel-item::after {content: \"\";width: 100%;border-bottom: 1px solid gray;flex-grow: 1;}#sk-container-id-1 div.sk-label:hover label.sk-toggleable__label {background-color: #d4ebff;}#sk-container-id-1 div.sk-serial::before {content: \"\";position: absolute;border-left: 1px solid gray;box-sizing: border-box;top: 0;bottom: 0;left: 50%;z-index: 0;}#sk-container-id-1 div.sk-serial {display: flex;flex-direction: column;align-items: center;background-color: white;padding-right: 0.2em;padding-left: 0.2em;position: relative;}#sk-container-id-1 div.sk-item {position: relative;z-index: 1;}#sk-container-id-1 div.sk-parallel {display: flex;align-items: stretch;justify-content: center;background-color: white;position: relative;}#sk-container-id-1 div.sk-item::before, #sk-container-id-1 div.sk-parallel-item::before {content: \"\";position: absolute;border-left: 1px solid gray;box-sizing: border-box;top: 0;bottom: 0;left: 50%;z-index: -1;}#sk-container-id-1 div.sk-parallel-item {display: flex;flex-direction: column;z-index: 1;position: relative;background-color: white;}#sk-container-id-1 div.sk-parallel-item:first-child::after {align-self: flex-end;width: 50%;}#sk-container-id-1 div.sk-parallel-item:last-child::after {align-self: flex-start;width: 50%;}#sk-container-id-1 div.sk-parallel-item:only-child::after {width: 0;}#sk-container-id-1 div.sk-dashed-wrapped {border: 1px dashed gray;margin: 0 0.4em 0.5em 0.4em;box-sizing: border-box;padding-bottom: 0.4em;background-color: white;}#sk-container-id-1 div.sk-label label {font-family: monospace;font-weight: bold;display: inline-block;line-height: 1.2em;}#sk-container-id-1 div.sk-label-container {text-align: center;}#sk-container-id-1 div.sk-container {/* jupyter's `normalize.less` sets `[hidden] { display: none; }` but bootstrap.min.css set `[hidden] { display: none !important; }` so we also need the `!important` here to be able to override the default hidden behavior on the sphinx rendered scikit-learn.org. See: https://github.com/scikit-learn/scikit-learn/issues/21755 */display: inline-block !important;position: relative;}#sk-container-id-1 div.sk-text-repr-fallback {display: none;}</style><div id=\"sk-container-id-1\" class=\"sk-top-container\"><div class=\"sk-text-repr-fallback\"><pre>GridSearchCV(cv=KFold(n_splits=5, random_state=0, shuffle=True),\n",
       "             estimator=SGDRegressor(loss=&#x27;squared_loss&#x27;),\n",
       "             param_grid={&#x27;alpha&#x27;: [1e-08, 1e-07, 1e-06, 1e-05, 0.0001, 0.001,\n",
       "                                   0.01]},\n",
       "             return_train_score=True, scoring=&#x27;neg_mean_squared_error&#x27;)</pre><b>In a Jupyter environment, please rerun this cell to show the HTML representation or trust the notebook. <br />On GitHub, the HTML representation is unable to render, please try loading this page with nbviewer.org.</b></div><div class=\"sk-container\" hidden><div class=\"sk-item sk-dashed-wrapped\"><div class=\"sk-label-container\"><div class=\"sk-label sk-toggleable\"><input class=\"sk-toggleable__control sk-hidden--visually\" id=\"sk-estimator-id-1\" type=\"checkbox\" ><label for=\"sk-estimator-id-1\" class=\"sk-toggleable__label sk-toggleable__label-arrow\">GridSearchCV</label><div class=\"sk-toggleable__content\"><pre>GridSearchCV(cv=KFold(n_splits=5, random_state=0, shuffle=True),\n",
       "             estimator=SGDRegressor(loss=&#x27;squared_loss&#x27;),\n",
       "             param_grid={&#x27;alpha&#x27;: [1e-08, 1e-07, 1e-06, 1e-05, 0.0001, 0.001,\n",
       "                                   0.01]},\n",
       "             return_train_score=True, scoring=&#x27;neg_mean_squared_error&#x27;)</pre></div></div></div><div class=\"sk-parallel\"><div class=\"sk-parallel-item\"><div class=\"sk-item\"><div class=\"sk-label-container\"><div class=\"sk-label sk-toggleable\"><input class=\"sk-toggleable__control sk-hidden--visually\" id=\"sk-estimator-id-2\" type=\"checkbox\" ><label for=\"sk-estimator-id-2\" class=\"sk-toggleable__label sk-toggleable__label-arrow\">estimator: SGDRegressor</label><div class=\"sk-toggleable__content\"><pre>SGDRegressor(loss=&#x27;squared_loss&#x27;)</pre></div></div></div><div class=\"sk-serial\"><div class=\"sk-item\"><div class=\"sk-estimator sk-toggleable\"><input class=\"sk-toggleable__control sk-hidden--visually\" id=\"sk-estimator-id-3\" type=\"checkbox\" ><label for=\"sk-estimator-id-3\" class=\"sk-toggleable__label sk-toggleable__label-arrow\">SGDRegressor</label><div class=\"sk-toggleable__content\"><pre>SGDRegressor(loss=&#x27;squared_loss&#x27;)</pre></div></div></div></div></div></div></div></div></div></div>"
      ],
      "text/plain": [
       "GridSearchCV(cv=KFold(n_splits=5, random_state=0, shuffle=True),\n",
       "             estimator=SGDRegressor(loss='squared_loss'),\n",
       "             param_grid={'alpha': [1e-08, 1e-07, 1e-06, 1e-05, 0.0001, 0.001,\n",
       "                                   0.01]},\n",
       "             return_train_score=True, scoring='neg_mean_squared_error')"
      ]
     },
     "execution_count": 24,
     "metadata": {},
     "output_type": "execute_result"
    }
   ],
   "source": [
    "sv.fit(X_train_sc, y_train)"
   ]
  },
  {
   "cell_type": "code",
   "execution_count": 25,
   "id": "24610fe3",
   "metadata": {},
   "outputs": [
    {
     "name": "stdout",
     "output_type": "stream",
     "text": [
      "Neg MSE on test set: -33.13986110402352\n"
     ]
    }
   ],
   "source": [
    "print(\"Neg MSE on test set:\", sv.score(X_test_sc, y_test))"
   ]
  },
  {
   "cell_type": "code",
   "execution_count": 26,
   "id": "433d7d0b",
   "metadata": {},
   "outputs": [
    {
     "name": "stdout",
     "output_type": "stream",
     "text": [
      "Best parameters: {'alpha': 1e-05}\n",
      "Best cross-validation score: -24.3055268630433\n"
     ]
    }
   ],
   "source": [
    "print(\"Best parameters:\", sv.best_params_)\n",
    "print(\"Best cross-validation score:\", sv.best_score_)"
   ]
  },
  {
   "cell_type": "code",
   "execution_count": 27,
   "id": "9d0bef59",
   "metadata": {},
   "outputs": [
    {
     "data": {
      "image/png": "[encoded data removed]",
      "text/plain": [
       "<Figure size 560x400 with 1 Axes>"
      ]
     },
     "metadata": {
      "needs_background": "light"
     },
     "output_type": "display_data"
    }
   ],
   "source": [
    "cv_results = pd.DataFrame(sv.cv_results_)\n",
    "\n",
    "plt.figure(figsize = (7, 5), dpi = 80)\n",
    "plt.title('Train and test scores for different values of alpha \\n Ridge Regression')\n",
    "\n",
    "sns.lineplot(np.log10(cv_results['param_alpha'].astype(float)), cv_results['mean_test_score'], \n",
    "             color = 'maroon', lw = 2, label = 'Test Score')\n",
    "sns.lineplot(np.log10(cv_results['param_alpha'].astype(float)), cv_results['mean_train_score'], \n",
    "             color = 'teal', lw = 2, label = 'Train Score')\n",
    "\n",
    "plt.ylabel('')\n",
    "plt.xlabel('Log10(alpha)')\n",
    "plt.legend()\n",
    "plt.show()"
   ]
  },
  {
   "cell_type": "code",
   "execution_count": null,
   "id": "01a1fa13",
   "metadata": {},
   "outputs": [],
   "source": []
  }
 ],
 "metadata": {
  "kernelspec": {
   "display_name": "Python 3 (ipykernel)",
   "language": "python",
   "name": "python3"
  },
  "language_info": {
   "codemirror_mode": {
    "name": "ipython",
    "version": 3
   },
   "file_extension": ".py",
   "mimetype": "text/x-python",
   "name": "python",
   "nbconvert_exporter": "python",
   "pygments_lexer": "ipython3",
   "version": "3.9.7"
  }
 },
 "nbformat": 4,
 "nbformat_minor": 5
}
